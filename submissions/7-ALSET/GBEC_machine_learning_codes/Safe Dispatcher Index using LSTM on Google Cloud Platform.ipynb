{
 "cells": [
  {
   "cell_type": "markdown",
   "metadata": {},
   "source": [
    "### Use IOT data to create a 'safe driver index' which can be used for insurance company rewards. "
   ]
  },
  {
   "cell_type": "code",
   "execution_count": null,
   "metadata": {},
   "outputs": [],
   "source": [
    "BUCKET = 'hackathon-ALSET'\n",
    "PROJECT = 'hackathon-ALSET'\n",
    "\n",
    "import os\n",
    "os.environ['BUCKET'] = BUCKET\n",
    "os.environ['PROJECT'] = PROJECT"
   ]
  },
  {
   "cell_type": "code",
   "execution_count": 21,
   "metadata": {},
   "outputs": [
    {
     "name": "stderr",
     "output_type": "stream",
     "text": [
      "Copying gs://datathon-team19-19/Datathon_Final_Data_V1.1%2FDatathon_IOT_Data.csv...\n",
      "/ [0 files][    0.0 B/ 28.1 MiB]                                                \r",
      "-\r",
      "- [1 files][ 28.1 MiB/ 28.1 MiB]                                                \r\n",
      "Operation completed over 1 objects/28.1 MiB.                                     \n"
     ]
    }
   ],
   "source": [
    "# Copy files from google storage\n",
    "%bash\n",
    "INPUT=gs://${BUCKET}/Datathon_Final_Data_V1.1%2FDatathon_IOT_Data.csv\n",
    "gsutil cp $INPUT Datathon_Final_Data_V1.1%2FDatathon_IOT_Data.csv"
   ]
  },
  {
   "cell_type": "code",
   "execution_count": 22,
   "metadata": {},
   "outputs": [],
   "source": [
    "import os\n",
    "import pandas as pd\n",
    "import numpy as np\n",
    "import matplotlib as mp\n",
    "import scipy as sp\n",
    "import csv\n",
    "import math as math\n",
    "import matplotlib.pyplot as plt\n",
    "import datetime\n",
    "from datetime import datetime, timedelta, time\n",
    "from time import sleep\n",
    "from dateutil.parser import parse\n",
    "from matplotlib import pyplot\n",
    "from sklearn.preprocessing import LabelEncoder, OneHotEncoder, MinMaxScaler\n",
    "\n",
    "\n",
    "# read IOT dataset into pandas\n",
    "df = pd.read_csv(\"Datathon_Final_Data_V1.1%2FDatathon_IOT_Data.csv\",index_col=False)"
   ]
  },
  {
   "cell_type": "markdown",
   "metadata": {},
   "source": [
    "### An indicator was created to address dangerous instances:\n",
    "Type column only has integer 18 and below"
   ]
  },
  {
   "cell_type": "code",
   "execution_count": 23,
   "metadata": {},
   "outputs": [],
   "source": [
    "# Dangerous instances\n",
    "df['Dangerous'] =0\n",
    "df.loc[(df.Type == 3) | (df.Type == 6) | (df.Type == 6)| (df.Type == 7)| (df.Type == 8)| (df.Type == 9) | (df.Type == 10)| (df.Type == 12) | (df.Type == 16), 'Dangerous'] = 1  \n",
    "#3 Overspeed Alarm\n",
    "#6 Fatigue Alarm\n",
    "#7 Emergency Acceleration Alarm\n",
    "#8 Emergency Deceleration Alarm\n",
    "#9 Sharp Turn Alarm\n",
    "#10 Collision Alarm\n",
    "#12 High Speed Alarm\n",
    "#16 Pull Out Alarm\n",
    "df=df.rename(columns={'Locate time': \"time\"})\n",
    "df = df.set_index(pd.DatetimeIndex(df['time']))\n",
    "# Drop unwanted columns\n",
    "df = df.drop(['Device PN','time', 'Type', 'Locate Status', 'Engine Status', 'Total Line Status', 'Trip Status', 'Mileage Source', 'GPS Sensor', 'Gravity'], axis=1)\n",
    "# mark all NA values with 0\n",
    "columns_names=list(df.columns)\n",
    "for names in columns_names:\n",
    "    df[names].fillna(0, inplace=True)\n",
    "columns_names=cols = columns_names[-1:] + columns_names[:-1]\n",
    "# rearrange the dangerous indicator columns to first column\n",
    "df = df[columns_names]"
   ]
  },
  {
   "cell_type": "code",
   "execution_count": 24,
   "metadata": {},
   "outputs": [
    {
     "data": {
      "text/html": [
       "<div>\n",
       "<style scoped>\n",
       "    .dataframe tbody tr th:only-of-type {\n",
       "        vertical-align: middle;\n",
       "    }\n",
       "\n",
       "    .dataframe tbody tr th {\n",
       "        vertical-align: top;\n",
       "    }\n",
       "\n",
       "    .dataframe thead th {\n",
       "        text-align: right;\n",
       "    }\n",
       "</style>\n",
       "<table border=\"1\" class=\"dataframe\">\n",
       "  <thead>\n",
       "    <tr style=\"text-align: right;\">\n",
       "      <th></th>\n",
       "      <th>Dangerous</th>\n",
       "      <th>Altitude</th>\n",
       "      <th>GPS Speed</th>\n",
       "      <th>Speedometer</th>\n",
       "      <th>Torque</th>\n",
       "      <th>Voltage</th>\n",
       "      <th>Average Speed</th>\n",
       "      <th>Fuel Consumption</th>\n",
       "      <th>Interval time</th>\n",
       "      <th>Interval fuel</th>\n",
       "      <th>Longitude</th>\n",
       "      <th>Latitude</th>\n",
       "      <th>Direction</th>\n",
       "      <th>Temp</th>\n",
       "    </tr>\n",
       "    <tr>\n",
       "      <th>time</th>\n",
       "      <th></th>\n",
       "      <th></th>\n",
       "      <th></th>\n",
       "      <th></th>\n",
       "      <th></th>\n",
       "      <th></th>\n",
       "      <th></th>\n",
       "      <th></th>\n",
       "      <th></th>\n",
       "      <th></th>\n",
       "      <th></th>\n",
       "      <th></th>\n",
       "      <th></th>\n",
       "      <th></th>\n",
       "    </tr>\n",
       "  </thead>\n",
       "  <tbody>\n",
       "    <tr>\n",
       "      <th>2018-07-23 01:50:00</th>\n",
       "      <td>0</td>\n",
       "      <td>-50</td>\n",
       "      <td>0.9</td>\n",
       "      <td>0.0</td>\n",
       "      <td>0.0</td>\n",
       "      <td>0.00</td>\n",
       "      <td>0.0</td>\n",
       "      <td>0.0</td>\n",
       "      <td>0.0</td>\n",
       "      <td>0.0</td>\n",
       "      <td>0.00000</td>\n",
       "      <td>0.00000</td>\n",
       "      <td>0</td>\n",
       "      <td>0.0</td>\n",
       "    </tr>\n",
       "    <tr>\n",
       "      <th>2018-07-23 02:21:00</th>\n",
       "      <td>0</td>\n",
       "      <td>-50</td>\n",
       "      <td>0.6</td>\n",
       "      <td>0.0</td>\n",
       "      <td>0.0</td>\n",
       "      <td>13.09</td>\n",
       "      <td>0.2</td>\n",
       "      <td>0.0</td>\n",
       "      <td>0.0</td>\n",
       "      <td>0.0</td>\n",
       "      <td>0.00000</td>\n",
       "      <td>0.00000</td>\n",
       "      <td>0</td>\n",
       "      <td>0.0</td>\n",
       "    </tr>\n",
       "    <tr>\n",
       "      <th>2018-07-23 02:22:00</th>\n",
       "      <td>1</td>\n",
       "      <td>-35</td>\n",
       "      <td>7.1</td>\n",
       "      <td>0.0</td>\n",
       "      <td>0.0</td>\n",
       "      <td>0.00</td>\n",
       "      <td>0.0</td>\n",
       "      <td>0.0</td>\n",
       "      <td>0.0</td>\n",
       "      <td>0.0</td>\n",
       "      <td>101.58200</td>\n",
       "      <td>2.93670</td>\n",
       "      <td>338</td>\n",
       "      <td>0.0</td>\n",
       "    </tr>\n",
       "    <tr>\n",
       "      <th>2018-07-23 02:22:00</th>\n",
       "      <td>0</td>\n",
       "      <td>-39</td>\n",
       "      <td>56.3</td>\n",
       "      <td>0.0</td>\n",
       "      <td>0.0</td>\n",
       "      <td>13.43</td>\n",
       "      <td>0.0</td>\n",
       "      <td>0.0</td>\n",
       "      <td>326.0</td>\n",
       "      <td>0.0</td>\n",
       "      <td>101.58198</td>\n",
       "      <td>2.93895</td>\n",
       "      <td>64</td>\n",
       "      <td>0.0</td>\n",
       "    </tr>\n",
       "    <tr>\n",
       "      <th>2018-07-23 02:22:00</th>\n",
       "      <td>0</td>\n",
       "      <td>-39</td>\n",
       "      <td>56.9</td>\n",
       "      <td>0.0</td>\n",
       "      <td>0.0</td>\n",
       "      <td>0.00</td>\n",
       "      <td>0.0</td>\n",
       "      <td>0.0</td>\n",
       "      <td>0.0</td>\n",
       "      <td>0.0</td>\n",
       "      <td>101.58254</td>\n",
       "      <td>2.93878</td>\n",
       "      <td>63</td>\n",
       "      <td>0.0</td>\n",
       "    </tr>\n",
       "  </tbody>\n",
       "</table>\n",
       "</div>"
      ],
      "text/plain": [
       "                     Dangerous  Altitude  GPS Speed  Speedometer  Torque  \\\n",
       "time                                                                       \n",
       "2018-07-23 01:50:00          0       -50        0.9          0.0     0.0   \n",
       "2018-07-23 02:21:00          0       -50        0.6          0.0     0.0   \n",
       "2018-07-23 02:22:00          1       -35        7.1          0.0     0.0   \n",
       "2018-07-23 02:22:00          0       -39       56.3          0.0     0.0   \n",
       "2018-07-23 02:22:00          0       -39       56.9          0.0     0.0   \n",
       "\n",
       "                     Voltage  Average Speed  Fuel Consumption  Interval time  \\\n",
       "time                                                                           \n",
       "2018-07-23 01:50:00     0.00            0.0               0.0            0.0   \n",
       "2018-07-23 02:21:00    13.09            0.2               0.0            0.0   \n",
       "2018-07-23 02:22:00     0.00            0.0               0.0            0.0   \n",
       "2018-07-23 02:22:00    13.43            0.0               0.0          326.0   \n",
       "2018-07-23 02:22:00     0.00            0.0               0.0            0.0   \n",
       "\n",
       "                     Interval fuel  Longitude  Latitude  Direction  Temp  \n",
       "time                                                                      \n",
       "2018-07-23 01:50:00            0.0    0.00000   0.00000          0   0.0  \n",
       "2018-07-23 02:21:00            0.0    0.00000   0.00000          0   0.0  \n",
       "2018-07-23 02:22:00            0.0  101.58200   2.93670        338   0.0  \n",
       "2018-07-23 02:22:00            0.0  101.58198   2.93895         64   0.0  \n",
       "2018-07-23 02:22:00            0.0  101.58254   2.93878         63   0.0  "
      ]
     },
     "execution_count": 24,
     "metadata": {},
     "output_type": "execute_result"
    }
   ],
   "source": [
    "df.head()"
   ]
  },
  {
   "cell_type": "markdown",
   "metadata": {},
   "source": [
    "### Try to have a glance of the data"
   ]
  },
  {
   "cell_type": "code",
   "execution_count": 25,
   "metadata": {},
   "outputs": [
    {
     "name": "stderr",
     "output_type": "stream",
     "text": [
      "/usr/local/envs/py3env/lib/python3.5/site-packages/matplotlib/font_manager.py:1320: UserWarning: findfont: Font family ['sans-serif'] not found. Falling back to DejaVu Sans\n",
      "  (prop.get_family(), self.defaultFamily[fontext]))\n"
     ]
    },
    {
     "data": {
      "image/png": "[encoded data removed]",
      "text/plain": [
       "<matplotlib.figure.Figure at 0x7f6d729bea20>"
      ]
     },
     "metadata": {},
     "output_type": "display_data"
    },
    {
     "data": {
      "image/png": "[encoded data removed]",
      "text/plain": [
       "<matplotlib.figure.Figure at 0x7f6d729be710>"
      ]
     },
     "metadata": {},
     "output_type": "display_data"
    }
   ],
   "source": [
    "values = df.values\n",
    "# specify columns to plot\n",
    "groups = [0, 1, 2, 3, 5, 6, 7]\n",
    "i = 1\n",
    "# plot each column\n",
    "pyplot.figure()\n",
    "for group in groups:\n",
    "    pyplot.subplot(len(groups), 1, i)\n",
    "    pyplot.plot(values[:, group])\n",
    "    pyplot.title(df.columns[group], y=0.5, loc='right')\n",
    "    i += 1\n",
    "pyplot.show()\n",
    "\n",
    "\n",
    "groups = [8,9,10,11,12,13]\n",
    "i = 1\n",
    "# plot each column\n",
    "pyplot.figure()\n",
    "for group in groups:\n",
    "    pyplot.subplot(len(groups), 1, i)\n",
    "    pyplot.plot(values[:, group])\n",
    "    pyplot.title(df.columns[group], y=0.5, loc='right')\n",
    "    i += 1\n",
    "pyplot.show()"
   ]
  },
  {
   "cell_type": "markdown",
   "metadata": {},
   "source": [
    "### We are going to do a multivariate-time-series-forecasting using LSTM where older timepoints are not that relevant in comparison to the newer timepoints. When the model is deployed, model can be run in real time where every new second a driver will have a new driver safety index and and the model can predict dangerous situation depending on the sensor inputs at previous time points. Here we use t-3, t-2,t-1 datapoints as inputs. The chosing of t-3, t-2,t-1 datapoints might not be optimal, but we believe it is good enough to start testing"
   ]
  },
  {
   "cell_type": "code",
   "execution_count": 26,
   "metadata": {},
   "outputs": [],
   "source": [
    "# convert series to supervised learning\n",
    "def series_to_supervised(data, n_in=1, n_out=1, dropnan=True):\n",
    "    n_vars = 1 if type(data) is list else data.shape[1]\n",
    "    df = pd.DataFrame(data)\n",
    "    cols, names = list(), list()\n",
    "    # input sequence (t-n, ... t-1)\n",
    "    for i in range(n_in, 0, -1):\n",
    "        cols.append(df.shift(i))\n",
    "        names += [('var%d(t-%d)' % (j+1, i)) for j in range(n_vars)]\n",
    "    # forecast sequence (t, t+1, ... t+n)\n",
    "    for i in range(0, n_out):\n",
    "        cols.append(df.shift(-i))\n",
    "        if i == 0:\n",
    "            names += [('var%d(t)' % (j+1)) for j in range(n_vars)]\n",
    "    else:\n",
    "            names += [('var%d(t+%d)' % (j+1, i)) for j in range(n_vars)]\n",
    "    agg = pd.concat(cols, axis=1)\n",
    "    if dropnan:\n",
    "        agg.dropna(inplace=True)\n",
    "    return agg\n",
    " \n",
    "# load dataset\n",
    "# ensure all data is float\n",
    "values = df.values\n",
    "values = values.astype('float32')\n",
    "#print(values[0])\n",
    "\n",
    "\n",
    "# specify the number of lag time steps\n",
    "n_time = 3\n",
    "n_features = 13\n",
    "# frame as supervised learning\n",
    "reframed = series_to_supervised(df, n_time, 1)\n",
    "\n",
    "# Drop the dangerous indicator at t-3, t-2, t-1 data points columns\n",
    "reframed_new=pd.concat([reframed.iloc[:,1:14], reframed.iloc[:,15:28], reframed.iloc[:,29:42],  reframed.iloc[:,42]], axis=1)"
   ]
  },
  {
   "cell_type": "code",
   "execution_count": 27,
   "metadata": {},
   "outputs": [],
   "source": [
    "# normalize features\n",
    "values = reframed_new.values\n",
    "scaler = MinMaxScaler(feature_range=(0, 1))\n",
    "scaled = scaler.fit_transform(values)\n",
    "scaled= pd.DataFrame(scaled)\n",
    "X=scaled.iloc[:,0:-1]\n",
    "y=scaled.iloc[:,-1]\n",
    "X=np.array(X)\n",
    "y=np.array(y)\n"
   ]
  },
  {
   "cell_type": "code",
   "execution_count": 28,
   "metadata": {},
   "outputs": [],
   "source": [
    "# Splitting the dataset into the Training set and Test set\n",
    "from sklearn.model_selection import train_test_split\n",
    "X_train, X_test, y_train, y_test = train_test_split(X, y, test_size = 0.2, random_state = 123)"
   ]
  },
  {
   "cell_type": "code",
   "execution_count": 29,
   "metadata": {},
   "outputs": [],
   "source": [
    "# reshape input to be 3D [samples, timesteps, features] \n",
    "X_train = X_train.reshape((X_train.shape[0], n_time, 13))\n",
    "X_test = X_test.reshape((X_test.shape[0], n_time, 13))\n"
   ]
  },
  {
   "cell_type": "code",
   "execution_count": 30,
   "metadata": {},
   "outputs": [
    {
     "name": "stdout",
     "output_type": "stream",
     "text": [
      "Requirement already satisfied: keras in /usr/local/envs/py3env/lib/python3.5/site-packages (2.2.4)\n",
      "Requirement already satisfied: numpy>=1.9.1 in /usr/local/envs/py3env/lib/python3.5/site-packages (from keras) (1.14.0)\n",
      "Requirement already satisfied: keras-applications>=1.0.6 in /usr/local/envs/py3env/lib/python3.5/site-packages (from keras) (1.0.6)\n",
      "Requirement already satisfied: h5py in /usr/local/envs/py3env/lib/python3.5/site-packages (from keras) (2.7.1)\n",
      "Requirement already satisfied: six>=1.9.0 in /usr/local/envs/py3env/lib/python3.5/site-packages (from keras) (1.10.0)\n",
      "Requirement already satisfied: scipy>=0.14 in /usr/local/envs/py3env/lib/python3.5/site-packages (from keras) (1.0.0)\n",
      "Requirement already satisfied: keras-preprocessing>=1.0.5 in /usr/local/envs/py3env/lib/python3.5/site-packages (from keras) (1.0.5)\n",
      "Requirement already satisfied: pyyaml in /usr/local/envs/py3env/lib/python3.5/site-packages (from keras) (3.13)\n"
     ]
    }
   ],
   "source": [
    "!pip install keras"
   ]
  },
  {
   "cell_type": "code",
   "execution_count": 31,
   "metadata": {},
   "outputs": [],
   "source": [
    "# Importing the Keras libraries and packages\n",
    "from keras.models import Sequential\n",
    "from keras.layers import Dense\n",
    "from keras.layers import LSTM\n",
    "from keras.layers import Dropout"
   ]
  },
  {
   "cell_type": "code",
   "execution_count": 32,
   "metadata": {},
   "outputs": [
    {
     "name": "stdout",
     "output_type": "stream",
     "text": [
      "Epoch 1/2\n",
      "145483/145483 [==============================] - 71s 489us/step - loss: 0.1635 - acc: 0.9740\n",
      "Epoch 2/2\n",
      "145483/145483 [==============================] - 67s 459us/step - loss: 0.1203 - acc: 0.9741\n",
      "Epoch 1/2\n",
      "145483/145483 [==============================] - 73s 501us/step - loss: 0.1626 - acc: 0.9741\n",
      "Epoch 2/2\n",
      "145483/145483 [==============================] - 67s 461us/step - loss: 0.1204 - acc: 0.9741\n",
      "Epoch 1/2\n",
      "145484/145484 [==============================] - 71s 491us/step - loss: 0.1659 - acc: 0.9734\n",
      "Epoch 2/2\n",
      "145484/145484 [==============================] - 67s 461us/step - loss: 0.1207 - acc: 0.9740\n",
      "Epoch 1/2\n",
      "218225/218225 [==============================] - 105s 482us/step - loss: 0.1496 - acc: 0.9741\n",
      "Epoch 2/2\n",
      "218225/218225 [==============================] - 101s 463us/step - loss: 0.1204 - acc: 0.9741\n",
      "12.215461389223735\n",
      "Best accuracy: 0.974091 using {'neurons': 50, 'batch_size': 50, 'epochs': 2, 'dropout_rate': 0.1, 'activation': 'softmax', 'optimizer': 'SGD'}\n"
     ]
    }
   ],
   "source": [
    "import time\n",
    "start = time.time()\n",
    "# Tuning the RNN\n",
    "from keras.wrappers.scikit_learn import KerasClassifier\n",
    "from sklearn.model_selection import RandomizedSearchCV, GridSearchCV,KFold\n",
    "from sklearn.model_selection import cross_val_score\n",
    "def build_classifier(neurons=50,dropout_rate=0.2, optimizer='adam', activation='relu'):\n",
    "    classifier = Sequential()\n",
    "    # Adding the first LSTM layer and some Dropout regularisation\n",
    "    classifier.add(LSTM(units = neurons, return_sequences = True, activation=activation, input_shape = (X_train.shape[1], X_train.shape[2])))\n",
    "    classifier.add(Dropout(dropout_rate))\n",
    "    # Adding a second LSTM layer and some Dropout regularisation\n",
    "    classifier.add(LSTM(units = neurons, return_sequences = True, activation=activation))\n",
    "    classifier.add(Dropout(dropout_rate))\n",
    "    # Adding a third LSTM layer and some Dropout regularisation\n",
    "    classifier.add(LSTM(units = neurons, return_sequences = True, activation=activation))\n",
    "    classifier.add(Dropout(dropout_rate))\n",
    "    # Adding a fourth LSTM layer and some Dropout regularisation\n",
    "    classifier.add(LSTM(units = neurons))\n",
    "    classifier.add(Dropout(dropout_rate))\n",
    "    # Adding the output layer\n",
    "    classifier.add(Dense(units = 1, activation = 'sigmoid'))\n",
    "    classifier.compile(optimizer = optimizer, loss = 'binary_crossentropy', metrics = ['accuracy'])\n",
    "    return classifier\n",
    "\n",
    "\n",
    "classifier = KerasClassifier(build_fn = build_classifier)\n",
    "\n",
    "#parameters = {'batch_size' : [20, 40, 60],\n",
    "#                'epochs' : [50, 100],\n",
    "#                'optimizer' : ['SGD', 'RMSprop', 'Adagrad', 'Adadelta', 'Adam', 'Adamax', 'Nadam'],\n",
    "#               'activation' : ['softmax', 'softplus', 'softsign', 'relu', 'tanh'],\n",
    "#              'dropout_rate' : [0.1, 0.2, 0.3],\n",
    "#                'neurons' : [15, 30, 50]}\n",
    "\n",
    "#The pareameters are harcoded because we could not make grid search work in Google Cloud, leave the code above commented\n",
    "\n",
    "parameters = {'batch_size' : [50],\n",
    "                'epochs' : [2],\n",
    "                'optimizer' : ['SGD'],\n",
    "              'activation' : ['softmax'],\n",
    "               'dropout_rate' : [0.1],\n",
    "                'neurons' : [50]}\n",
    "grid_search = RandomizedSearchCV(estimator = classifier,\n",
    "                          param_distributions = parameters,\n",
    "                           n_iter=1,\n",
    "                           n_jobs=1,\n",
    "                           scoring = 'accuracy',\n",
    "                           cv = 3)\n",
    "\n",
    "grid_search = grid_search.fit(X_train, y_train)\n",
    "end = time.time()\n",
    "print((end - start)/60)\n",
    "print(\"Best accuracy: %f using %s\" % (grid_search.best_score_, grid_search.best_params_))"
   ]
  },
  {
   "cell_type": "code",
   "execution_count": 33,
   "metadata": {},
   "outputs": [],
   "source": [
    "best_random = grid_search.best_estimator_\n",
    "# Probability of dangerous instances occuring on test set\n",
    "predicted_probability = best_random.predict(X_test)"
   ]
  },
  {
   "cell_type": "code",
   "execution_count": 34,
   "metadata": {},
   "outputs": [],
   "source": [
    "y_pred = (predicted_probability > 0.5)\n",
    "# Making the Confusion Matrix\n",
    "from sklearn.metrics import confusion_matrix\n",
    "cm = confusion_matrix(y_test, y_pred)"
   ]
  },
  {
   "cell_type": "code",
   "execution_count": 49,
   "metadata": {},
   "outputs": [
    {
     "name": "stdout",
     "output_type": "stream",
     "text": [
      "Accuracy:  0.973697234085452\n"
     ]
    }
   ],
   "source": [
    "print(\"Accuracy: \", (cm[0][0]+cm[1][1])/(cm[0][0]+cm[0][1]+cm[1][0]+cm[1][1]))"
   ]
  }
 ],
 "metadata": {
  "kernelspec": {
   "display_name": "Python 3",
   "language": "python",
   "name": "python3"
  },
  "language_info": {
   "codemirror_mode": {
    "name": "ipython",
    "version": 3
   },
   "file_extension": ".py",
   "mimetype": "text/x-python",
   "name": "python",
   "nbconvert_exporter": "python",
   "pygments_lexer": "ipython3",
   "version": "3.6.3"
  }
 },
 "nbformat": 4,
 "nbformat_minor": 2
}
